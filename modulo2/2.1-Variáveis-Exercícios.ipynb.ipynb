{
 "cells": [
  {
   "cell_type": "markdown",
   "id": "32a4c4c3-587b-4f13-a740-cd6dd1d37005",
   "metadata": {
    "panel-layout": {
     "height": 251.64999389648438,
     "visible": true,
     "width": 100
    }
   },
   "source": [
    "Módulo 2\n",
    "2.1 Variáveis\n",
    "Q1.\n",
    "Selecione todos os itens a seguir que contém nomes válidos de variáveis. Lembre-se que alguns nomes com estrutura válida são palavras reservadas da linguagem e portanto não podem nomear variáveis.\n",
    "\n",
    "a) nome_completo \n",
    "b) quantidade@produtos\t\n",
    "c) idade\t\n",
    "d) soma idades \n",
    "e) MediaNotas\n",
    "f) _tipo\n",
    "g) 2total\n",
    "h) lambda"
   ]
  },
  {
   "cell_type": "code",
   "execution_count": null,
   "id": "fc0cc06d-dccf-4928-9a87-f269960b51a1",
   "metadata": {
    "panel-layout": {
     "height": 0,
     "visible": true,
     "width": 100
    }
   },
   "outputs": [],
   "source": [
    "print ('a c e f')"
   ]
  },
  {
   "cell_type": "markdown",
   "id": "37ba059c-ee03-4cd8-9929-5b2dfe4004ce",
   "metadata": {
    "panel-layout": {
     "height": 224.2375030517578,
     "visible": true,
     "width": 100
    }
   },
   "source": [
    "Q2.\n",
    "Dados os scripts a seguir, faça:\n",
    "\n",
    "Para os scripts corretos escreva o resultado impresso ao final da execução\n",
    "Para os incorretos descreva todos os erros identificados apontando a linha onde cada erro acontece.\n",
    "# Script 1\n",
    "x = 10\n",
    "y = x + 2\n",
    "print(y - 5)"
   ]
  },
  {
   "cell_type": "code",
   "execution_count": null,
   "id": "34edf835-46b7-44b8-9f21-b98009a552b1",
   "metadata": {
    "panel-layout": {
     "height": 0,
     "visible": true,
     "width": 100
    }
   },
   "outputs": [],
   "source": [
    "print ('7')"
   ]
  },
  {
   "cell_type": "markdown",
   "id": "24ef4e79-2d4a-42a0-9d4c-122d12db8f61",
   "metadata": {
    "panel-layout": {
     "height": 110.70000457763672,
     "visible": true,
     "width": 100
    }
   },
   "source": [
    "# Script 2\n",
    "soma = n1 + n2\n",
    "print(soma)"
   ]
  },
  {
   "cell_type": "code",
   "execution_count": null,
   "id": "cc8cc433-1222-474a-8310-95e6f8e039e5",
   "metadata": {
    "panel-layout": {
     "height": 0,
     "visible": true,
     "width": 100
    }
   },
   "outputs": [],
   "source": [
    "print ('Na primeira linha a o erro de n1 e n2, pois não foram associados valores a essas variáveis')\n"
   ]
  },
  {
   "cell_type": "markdown",
   "id": "c0f85ee8-1c08-488a-969e-fd242da843f4",
   "metadata": {
    "panel-layout": {
     "height": 127.83750915527344,
     "visible": true,
     "width": 100
    }
   },
   "source": [
    "# Script 3\n",
    "a = 10\n",
    "a = a + 1\n",
    "print(a)"
   ]
  },
  {
   "cell_type": "code",
   "execution_count": null,
   "id": "60d07d54-b425-4252-9729-9cbb71ae2f52",
   "metadata": {
    "panel-layout": {
     "height": 0,
     "visible": true,
     "width": 100
    }
   },
   "outputs": [],
   "source": [
    "print ('11')"
   ]
  },
  {
   "cell_type": "markdown",
   "id": "328395b4-0985-422f-b0f3-748c6af2cbb9",
   "metadata": {
    "panel-layout": {
     "height": 127.83750915527344,
     "visible": true,
     "width": 100
    }
   },
   "source": [
    "# Script 4\n",
    "saldo da conta = 1500\n",
    "0.1 = juros\n",
    "print(saldo da conta * juros)"
   ]
  },
  {
   "cell_type": "code",
   "execution_count": null,
   "id": "ad313074-0a07-4607-bbaa-d35443a0d67c",
   "metadata": {
    "panel-layout": {
     "height": 0,
     "visible": true,
     "width": 100
    }
   },
   "outputs": [],
   "source": [
    "print ('O erro está na primeira linha, pois o nome da variável não pode ter espaços')"
   ]
  },
  {
   "cell_type": "markdown",
   "id": "663761eb-4f6b-423b-a437-7be948fb6856",
   "metadata": {
    "panel-layout": {
     "height": 68.2750015258789,
     "visible": true,
     "width": 100
    }
   },
   "source": [
    "Q3.\n",
    "Declare três variáveis, num1, num2 e num3, com valores inteiros numéricos de sua escolha. Calcule e imprima a média desses três números. Utilize a fórmula: (num1 + num2 + num3) / 3."
   ]
  },
  {
   "cell_type": "code",
   "execution_count": 11,
   "id": "91422522-d373-4900-b9ef-2eda59716c5a",
   "metadata": {
    "panel-layout": {
     "height": 0,
     "visible": true,
     "width": 100
    }
   },
   "outputs": [
    {
     "name": "stdout",
     "output_type": "stream",
     "text": [
      "2.0\n"
     ]
    }
   ],
   "source": [
    "num1 = 1\n",
    "num2 = 2\n",
    "num3 = 3\n",
    "media = (num1 + num2 + num3) / 3\n",
    "print ( media)"
   ]
  },
  {
   "cell_type": "markdown",
   "id": "6d05b20b-6419-422c-a7bb-405e12ec61b3",
   "metadata": {
    "panel-layout": {
     "height": 148.8249969482422,
     "visible": true,
     "width": 100
    }
   },
   "source": [
    "Q4.\n",
    "Escreva um script python que:\n",
    "\n",
    "Armazene em uma variável uma velocidade de 90 km/h\n",
    "Calcule e armazene o equivalente em m/s\n",
    "Divida o valor original por 3.6 para obter o resultado em m/s. Em python a sintaxe da divisão e atribuição é c = a / b\n",
    "Imprima na tela a velocidade o resultado m/s"
   ]
  },
  {
   "cell_type": "code",
   "execution_count": 15,
   "id": "3ffe0214-dfc9-46f9-a704-207fb795112b",
   "metadata": {
    "panel-layout": {
     "height": 0,
     "visible": true,
     "width": 100
    }
   },
   "outputs": [
    {
     "name": "stdout",
     "output_type": "stream",
     "text": [
      "25.0\n"
     ]
    }
   ],
   "source": [
    "velocidade = 90\n",
    "minutos = velocidade / 3.6\n",
    "print ( minutos )"
   ]
  },
  {
   "cell_type": "code",
   "execution_count": null,
   "id": "25c329f5-b2d0-42ec-86a4-d939b014e1e7",
   "metadata": {},
   "outputs": [],
   "source": [
    "Q5.\n",
    "Escreva um script python que:\n",
    "\n",
    "Armazene o seu nome em uma variável\n",
    "Dica: para armazenar textos em variáveis basta colocar a palavra desejada entre aspas, ex: \"Camila\", à direita do operador de atribuição.\n",
    "Imprima o texto \"Meu nome é:\"\n",
    "Imprima a variável com seu nome"
   ]
  },
  {
   "cell_type": "code",
   "execution_count": 19,
   "id": "495d4341-9083-4b19-8539-d5045ba94dca",
   "metadata": {
    "panel-layout": {
     "height": 0,
     "visible": true,
     "width": 100
    }
   },
   "outputs": [
    {
     "name": "stdout",
     "output_type": "stream",
     "text": [
      "Meu nome é\n",
      "Michele\n"
     ]
    }
   ],
   "source": [
    "nome = 'Michele'\n",
    "print ('Meu nome é')\n",
    "print ( nome )"
   ]
  },
  {
   "cell_type": "code",
   "execution_count": null,
   "id": "10756724-3077-4c75-8e1e-5b658f6190df",
   "metadata": {},
   "outputs": [],
   "source": []
  }
 ],
 "metadata": {
  "kernelspec": {
   "display_name": "Python 3 (ipykernel)",
   "language": "python",
   "name": "python3"
  },
  "language_info": {
   "codemirror_mode": {
    "name": "ipython",
    "version": 3
   },
   "file_extension": ".py",
   "mimetype": "text/x-python",
   "name": "python",
   "nbconvert_exporter": "python",
   "pygments_lexer": "ipython3",
   "version": "3.12.7"
  },
  "panel-cell-order": [
   "32a4c4c3-587b-4f13-a740-cd6dd1d37005",
   "fc0cc06d-dccf-4928-9a87-f269960b51a1",
   "37ba059c-ee03-4cd8-9929-5b2dfe4004ce",
   "34edf835-46b7-44b8-9f21-b98009a552b1",
   "24ef4e79-2d4a-42a0-9d4c-122d12db8f61",
   "cc8cc433-1222-474a-8310-95e6f8e039e5",
   "c0f85ee8-1c08-488a-969e-fd242da843f4",
   "60d07d54-b425-4252-9729-9cbb71ae2f52",
   "328395b4-0985-422f-b0f3-748c6af2cbb9",
   "ad313074-0a07-4607-bbaa-d35443a0d67c",
   "663761eb-4f6b-423b-a437-7be948fb6856",
   "91422522-d373-4900-b9ef-2eda59716c5a",
   "6d05b20b-6419-422c-a7bb-405e12ec61b3",
   "3ffe0214-dfc9-46f9-a704-207fb795112b",
   "495d4341-9083-4b19-8539-d5045ba94dca"
  ]
 },
 "nbformat": 4,
 "nbformat_minor": 5
}
